{
  "nbformat": 4,
  "nbformat_minor": 0,
  "metadata": {
    "colab": {
      "provenance": []
    },
    "kernelspec": {
      "name": "python3",
      "display_name": "Python 3"
    },
    "language_info": {
      "name": "python"
    }
  },
  "cells": [
    {
      "cell_type": "code",
      "execution_count": null,
      "metadata": {
        "id": "FWD-E9SBoKny"
      },
      "outputs": [],
      "source": []
    },
    {
      "cell_type": "markdown",
      "source": [
        "Student Performance Predictor \\\\\n",
        "Fall 2024 Data Science Project \\\\\n",
        "Esha Shah, Ojas Jagtap, Amit Vankadhara, Ayush Sundaraman, Indra, Pratham"
      ],
      "metadata": {
        "id": "pJoeVWJ5pLZV"
      }
    },
    {
      "cell_type": "markdown",
      "source": [
        "Contributions:\n",
        "\n",
        "Esha\n",
        "\n",
        "*   Dataset Curation and Preprocessing:\n",
        "\n",
        "\n",
        "\n",
        "\n",
        "\n",
        "\n",
        "\n",
        "\n",
        "Ojas\n",
        "\n",
        "*   Data Exploration and Summary Statistics\n",
        "*   List item\n",
        "\n",
        "\n",
        "\n",
        "\n",
        "\n",
        "\n"
      ],
      "metadata": {
        "id": "DjlrY_S8puY8"
      }
    }
  ]
}